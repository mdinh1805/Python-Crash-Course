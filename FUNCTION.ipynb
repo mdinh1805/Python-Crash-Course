{
  "nbformat": 4,
  "nbformat_minor": 0,
  "metadata": {
    "colab": {
      "provenance": [],
      "toc_visible": true,
      "collapsed_sections": [
        "IpSFLsrUuqfR"
      ]
    },
    "kernelspec": {
      "name": "python3",
      "display_name": "Python 3"
    },
    "language_info": {
      "name": "python"
    }
  },
  "cells": [
    {
      "cell_type": "markdown",
      "source": [
        "#**FUNCTION**"
      ],
      "metadata": {
        "id": "B34wVmPBjgsT"
      }
    },
    {
      "cell_type": "markdown",
      "source": [
        "FUNCTION\n",
        "\n",
        "A function is a block of code which only runs when it is called.\n",
        "\n",
        "You can pass data, known as parameters, into a function.\n",
        "\n",
        "function can return data as a result."
      ],
      "metadata": {
        "id": "O14iNAVmxja1"
      }
    },
    {
      "cell_type": "code",
      "source": [
        "# CREATE A FUNCTION\n",
        "\n",
        "def myfunction(): #Define\n",
        "  print (\"hello everyone, I'm a function\")\n",
        "myfunction() #Calling"
      ],
      "metadata": {
        "colab": {
          "base_uri": "https://localhost:8080/"
        },
        "id": "NYsj2SLCjzGh",
        "outputId": "2fabcfaa-a5fb-4c8e-881c-742c4b5c971a"
      },
      "execution_count": null,
      "outputs": [
        {
          "output_type": "stream",
          "name": "stdout",
          "text": [
            "hello everyone, I'm a function\n"
          ]
        }
      ]
    },
    {
      "cell_type": "code",
      "source": [
        "# ARGUMENT\n",
        "def my_func_1(fname): #Argument(s) stored in bracket, separated by comma\n",
        "  print (fname + \"_Refnes\")\n",
        "my_func_1(\"Emil\")\n",
        "my_func_1 (\"Minh\")\n",
        "my_func_1 (\"Hoa\")\n",
        "\n",
        "def area(chieudai, chieurong):\n",
        "    print(\"Dien tich hinh chu nhat la: \" + str(chieudai * chieurong) + \" cm^2\")\n",
        "\n",
        "area (2,3)"
      ],
      "metadata": {
        "colab": {
          "base_uri": "https://localhost:8080/"
        },
        "id": "l05TWWdQkJx3",
        "outputId": "4e1bb7e0-68da-4d49-c0a5-989a89c6a182"
      },
      "execution_count": null,
      "outputs": [
        {
          "output_type": "stream",
          "name": "stdout",
          "text": [
            "Emil_Refnes\n",
            "Minh_Refnes\n",
            "Hoa_Refnes\n",
            "Dien tich hinh chu nhat la: 6 cm^2\n"
          ]
        }
      ]
    },
    {
      "cell_type": "code",
      "source": [
        "#The pass Statement: Overlook a function to avoid error\n",
        "def my_func_3 (x):\n",
        "  pass"
      ],
      "metadata": {
        "id": "YRT-Rt7ouf3N"
      },
      "execution_count": null,
      "outputs": []
    },
    {
      "cell_type": "code",
      "source": [
        "# Incase of there is a default argument\n",
        "def my_func_2(city, country = \"Norway\"): #Default variable = country = Norway\n",
        "  print(\"I am from \" + str(country) + \" and I live in \" + str(city))\n",
        "my_func_2(city = \"Stockholm\")"
      ],
      "metadata": {
        "colab": {
          "base_uri": "https://localhost:8080/"
        },
        "id": "eWeyBBdL8nR6",
        "outputId": "da1e7323-1f8d-4fcf-daa4-97283b0f35b3"
      },
      "execution_count": 5,
      "outputs": [
        {
          "output_type": "stream",
          "name": "stdout",
          "text": [
            "I am from Norway and I live in Stockholm\n"
          ]
        }
      ]
    },
    {
      "cell_type": "markdown",
      "source": [
        "**REMARK ON PARAMETERS' POSITION/ORDER**:\n",
        "\n",
        "Note that the order of the parameters in the function definition had to be changed. Because the default value makes it unnecessary to specify a type of 'country' as an argument, the only argument left in the function call is the 'city'. **Python still interprets this as a positional argument**, so if the function is called with just a 'city', that ***argument will match up with the first parameter listed in the function’s definition***. This is the reason the first parameter needs to be 'city'."
      ],
      "metadata": {
        "id": "kNzYjosO90d7"
      }
    },
    {
      "cell_type": "code",
      "source": [
        "# RETURN A VALUE\n",
        "def my_func_3 (x):\n",
        "  return 5*x\n",
        "my_func_3 (9)\n",
        "\n",
        "# RETURN A DICTIONARY\n",
        "def build_person(first_name, last_name):\n",
        "    \"\"\"Return a dictionary of information about a person.\"\"\"\n",
        "    person = {'first_name': first_name,\n",
        "              'last_name': last_name}\n",
        "    return person\n",
        "musician = build_person('jimi', 'hendrix')\n",
        "print(musician)"
      ],
      "metadata": {
        "colab": {
          "base_uri": "https://localhost:8080/"
        },
        "id": "90jOZHM7uKxk",
        "outputId": "136cf7c7-a15c-4cc9-d0f8-1ea209b5c2cb"
      },
      "execution_count": 8,
      "outputs": [
        {
          "output_type": "stream",
          "name": "stdout",
          "text": [
            "{'first': 'jimi', 'last': 'hendrix'}\n"
          ]
        }
      ]
    },
    {
      "cell_type": "markdown",
      "source": [
        "The function build_person() takes in a first and last name, and puts these values into a dictionary 1. The value of first_name is stored with the key 'first', and the value of last_name is stored with the key 'last'. Then, the entire dictionary representing the person is returned 2. The return value is printed 3 with the original two pieces of textual information now stored in a dictionary"
      ],
      "metadata": {
        "id": "bZnycgt4BTSZ"
      }
    },
    {
      "cell_type": "code",
      "source": [
        "#Arbitrary Arguments *args\n",
        "\n",
        "#Sometimes you won’t know ahead of time how many arguments a function needs to accept.\n",
        "#Python allows a function to collect an arbi- trary number of arguments from the calling statement.\n",
        "\n",
        "def pizza (*ingredients):\n",
        "  print (ingredients)\n",
        "#Equivalent to:\n",
        "  for i in ingredients:\n",
        "    print ({str(i)})\n",
        "\n",
        "pizza ('tomato')\n",
        "pizza ('mushrooms', 'green peppers', 'extra cheese')"
      ],
      "metadata": {
        "colab": {
          "base_uri": "https://localhost:8080/"
        },
        "id": "S-cpyAMXq3W7",
        "outputId": "9fc01783-497e-437a-b8b8-00f0067c581f"
      },
      "execution_count": 11,
      "outputs": [
        {
          "output_type": "stream",
          "name": "stdout",
          "text": [
            "('tomato',)\n",
            "{'tomato'}\n",
            "('mushrooms', 'green peppers', 'extra cheese')\n",
            "{'mushrooms'}\n",
            "{'green peppers'}\n",
            "{'extra cheese'}\n"
          ]
        }
      ]
    },
    {
      "cell_type": "code",
      "source": [
        "# Using Arbitrary Keyword Arguments ???\n",
        "\n"
      ],
      "metadata": {
        "id": "LNdzEPgwV08h"
      },
      "execution_count": null,
      "outputs": []
    },
    {
      "cell_type": "markdown",
      "source": [
        "#**RECURSION**"
      ],
      "metadata": {
        "id": "IpSFLsrUuqfR"
      }
    },
    {
      "cell_type": "markdown",
      "source": [
        "Recursion is a common mathematical and programming concept. It means that a function calls itself. This has the benefit of meaning that you can loop through data to reach a result.\n",
        "\n",
        "Ví dụ: Tính hàm tổng cấp số cộng, cấp số nhân, giai thừa,.."
      ],
      "metadata": {
        "id": "aJb-nk_Iu14l"
      }
    },
    {
      "cell_type": "code",
      "source": [
        "# Implementation:\n",
        "def tri_func(k):\n",
        "  if k == 0:\n",
        "    return 0\n",
        "  else:\n",
        "    return k+tri_func(k-1)\n",
        "tri_func(5) # 1+2+3+4+5\n",
        "\n",
        "def factorial (k):\n",
        "  if k == 0:\n",
        "    return 1\n",
        "  else:\n",
        "    return (k*factorial(k-1)) # Calculate k!\n",
        "factorial (5)\n"
      ],
      "metadata": {
        "colab": {
          "base_uri": "https://localhost:8080/"
        },
        "id": "NlgTOa2zu3MR",
        "outputId": "28136256-ee6b-4b82-e2ff-a0d27d04a50c"
      },
      "execution_count": null,
      "outputs": [
        {
          "output_type": "execute_result",
          "data": {
            "text/plain": [
              "120"
            ]
          },
          "metadata": {},
          "execution_count": 20
        }
      ]
    },
    {
      "cell_type": "code",
      "source": [
        "def fib(k):\n",
        "  if k == 0:\n",
        "    return 0\n",
        "  elif k == 1:\n",
        "    return 1\n",
        "  else:\n",
        "    return fib(k-1)+fib(k-2) #Calculate the fibonacci sequence\n",
        "fib(10)"
      ],
      "metadata": {
        "colab": {
          "base_uri": "https://localhost:8080/"
        },
        "id": "_vpqu99Tv5tO",
        "outputId": "517c6762-dd13-4d55-935f-d0798032434d"
      },
      "execution_count": null,
      "outputs": [
        {
          "output_type": "execute_result",
          "data": {
            "text/plain": [
              "55"
            ]
          },
          "metadata": {},
          "execution_count": 26
        }
      ]
    },
    {
      "cell_type": "code",
      "source": [
        "## USING WHILE / IF IN THE FUNCTION\n",
        "\n",
        "def get_formatted_name (first_name, last_name):\n",
        "  full = str(first_name) + \" \" + str(last_name)\n",
        "  return full.title()\n",
        "get_formatted_name (\"Minh\", \"Nguyen\")\n",
        "\n",
        "# This is an infinite loop:\n",
        "'''while True:\n",
        "  print (\"\\nPlease tell me your name:\")\n",
        "  first_name = input (\" Your first name is:\")\n",
        "  last_name = input ('Your last name is:')\n",
        "  formatted_name = get_formatted_name (first_name, last_name)\n",
        "  print (\"\\nHello, \" + formatted_name + \"!\")'''\n",
        "\n",
        "#To quit/ stop the loop as whenever want:\n",
        "while True: #This while function allows loop to recurse infinitely\n",
        "    print(\"\\nPlease tell me your name:\")\n",
        "    print(\"(enter 'q' at any time to quit)\")\n",
        "    first_name = input(\"First name: \")\n",
        "    last_name = input(\"Last name: \")\n",
        "\n",
        "# using 'break' with the condition to stop the loop:\n",
        "    if first_name == 'q' or last_name == 'q': break\n",
        "    formatted_name = get_formatted_name(first_name, last_name)\n",
        "    print(f\"\\nHello, {formatted_name}!\")"
      ],
      "metadata": {
        "colab": {
          "base_uri": "https://localhost:8080/"
        },
        "id": "8PCgEqMvBoAo",
        "outputId": "bf91cebe-fae3-49c4-8d75-ec30f3c8e327"
      },
      "execution_count": 23,
      "outputs": [
        {
          "name": "stdout",
          "output_type": "stream",
          "text": [
            "\n",
            "Please tell me your name:\n",
            "(enter 'q' at any time to quit)\n",
            "First name: Minh\n",
            "Last name: d\n",
            "\n",
            "Hello, Minh D!\n",
            "\n",
            "Please tell me your name:\n",
            "(enter 'q' at any time to quit)\n",
            "First name: minh\n",
            "Last name: q\n"
          ]
        }
      ]
    },
    {
      "cell_type": "markdown",
      "source": [
        "#**PYTHON LAMBDA**"
      ],
      "metadata": {
        "id": "zgTF7xOKw6vR"
      }
    },
    {
      "cell_type": "markdown",
      "source": [
        "#**Storing Your Functions in Modules**"
      ],
      "metadata": {
        "id": "GL5SD6AkWE1j"
      }
    },
    {
      "cell_type": "markdown",
      "source": [
        "- Store function(s) in a module\n",
        "- Call a module to use it by using 'import' command"
      ],
      "metadata": {
        "id": "fj6i9pngWTWY"
      }
    },
    {
      "cell_type": "code",
      "source": [
        "# IMPORT A MODULE\n",
        "# 1. Define a module containing function/s\n",
        "def pizza (size, *toppings):\n",
        "  print (\"\\nMaking a \" + str(size) + '-inch pizza with the following toppings:')\n",
        "  for topping in toppings:\n",
        "    print (\"-\" + topping)\n",
        "#2. Save the file => This is called a module\n",
        "'''#3. import\n",
        "from module_name import pizza as ***\n",
        "pizza.make_pizza(16, 'pepperoni')\n",
        "pizza.make_pizza(12, 'mushrooms', 'green peppers', 'extra cheese')'''"
      ],
      "metadata": {
        "colab": {
          "base_uri": "https://localhost:8080/",
          "height": 53
        },
        "id": "6-TvTYGUWiiG",
        "outputId": "25c98e59-f69d-438c-f539-5d446b3bf532"
      },
      "execution_count": 13,
      "outputs": [
        {
          "output_type": "execute_result",
          "data": {
            "text/plain": [
              "\"#2. import\\nimport pizza \\npizza.make_pizza(16, 'pepperoni')\\npizza.make_pizza(12, 'mushrooms', 'green peppers', 'extra cheese')\""
            ],
            "application/vnd.google.colaboratory.intrinsic+json": {
              "type": "string"
            }
          },
          "metadata": {},
          "execution_count": 13
        }
      ]
    },
    {
      "cell_type": "markdown",
      "source": [
        "A lambda function is a small anonymous function.\n",
        "\n",
        "A lambda function can take any number of arguments, but can only have one expression.\n",
        "\n",
        "Syntax: lambda arguments : expression\n",
        "\n",
        "The expression is executed and the result is returned:"
      ],
      "metadata": {
        "id": "66-cjBBSxAc7"
      }
    },
    {
      "cell_type": "code",
      "source": [
        "# Example\n",
        "#A lambda function that adds 10 to the number passed in as an argument, and print the result\n",
        "x = lambda a : a + 10\n",
        "print (x(5))\n",
        "\n",
        "y = lambda a,b: a+b\n",
        "print (y(10,11))"
      ],
      "metadata": {
        "colab": {
          "base_uri": "https://localhost:8080/"
        },
        "id": "SyR6wfMGxHKu",
        "outputId": "ef98b049-3a82-4400-8850-75b855260e14"
      },
      "execution_count": null,
      "outputs": [
        {
          "output_type": "stream",
          "name": "stdout",
          "text": [
            "15\n",
            "21\n"
          ]
        }
      ]
    },
    {
      "cell_type": "markdown",
      "source": [
        "**Why Use Lambda Functions?**\n",
        "\n",
        "\n",
        "*   The power of lambda is better shown when you use them as an anonymous function inside another function.\n",
        "\n",
        "*   Use lambda functions when an anonymous function is required for a short period of time."
      ],
      "metadata": {
        "id": "iJfddFUM6rUm"
      }
    },
    {
      "cell_type": "code",
      "source": [
        "from numpy.random import uniform\n",
        "\n",
        "def binomial_rv(n, p):\n",
        "  count = 0\n",
        "  for i in range(n): # Indent the for loop to be within the function\n",
        "    U = uniform()\n",
        "    if U < p:\n",
        "      count = count + 1 # Or count += 1\n",
        "  return count\n",
        "\n",
        "binomial_rv(10, 0.5)"
      ],
      "metadata": {
        "colab": {
          "base_uri": "https://localhost:8080/"
        },
        "id": "rYFr2QUbEYUT",
        "outputId": "bc5282b1-5daf-4b11-a2d8-dffdbc59d330"
      },
      "execution_count": null,
      "outputs": [
        {
          "output_type": "execute_result",
          "data": {
            "text/plain": [
              "5"
            ]
          },
          "metadata": {},
          "execution_count": 35
        }
      ]
    },
    {
      "cell_type": "markdown",
      "source": [
        "#**EXCERCISES**"
      ],
      "metadata": {
        "id": "vXrOnaWU62tI"
      }
    },
    {
      "cell_type": "code",
      "source": [
        "#8.1\n",
        "def display_message(title):\n",
        "  print (\"I'm learning about_\" + str(title))\n",
        "display_message(\"Functions in Python\")\n",
        "\n",
        "#8.2\n",
        "def favorite_book(title):\n",
        "  print (\"One of my favorite books is \" + str(title))\n",
        "favorite_book(\"Alice in Wonderland\")"
      ],
      "metadata": {
        "colab": {
          "base_uri": "https://localhost:8080/"
        },
        "id": "2KJTx8Us66Jj",
        "outputId": "1de87ecf-6d15-46bd-e70c-8f307933d0b6"
      },
      "execution_count": 2,
      "outputs": [
        {
          "output_type": "stream",
          "name": "stdout",
          "text": [
            "I'm learning about_Functions in Python\n",
            "One of my favorite books is Alice in Wonderland\n"
          ]
        }
      ]
    }
  ]
}